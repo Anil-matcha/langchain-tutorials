{
  "nbformat": 4,
  "nbformat_minor": 0,
  "metadata": {
    "colab": {
      "provenance": [],
      "authorship_tag": "ABX9TyOugElqxWYoP/G87VltE6pO",
      "include_colab_link": true
    },
    "kernelspec": {
      "name": "python3",
      "display_name": "Python 3"
    },
    "language_info": {
      "name": "python"
    }
  },
  "cells": [
    {
      "cell_type": "markdown",
      "metadata": {
        "id": "view-in-github",
        "colab_type": "text"
      },
      "source": [
        "<a href=\"https://colab.research.google.com/github/Anil-matcha/langchain-tutorials/blob/main/Langchain_agents.ipynb\" target=\"_parent\"><img src=\"https://colab.research.google.com/assets/colab-badge.svg\" alt=\"Open In Colab\"/></a>"
      ]
    },
    {
      "cell_type": "code",
      "source": [
        "!pip install langchain openai duckpy"
      ],
      "metadata": {
        "id": "UO_dU6ABp0wl"
      },
      "execution_count": null,
      "outputs": []
    },
    {
      "cell_type": "code",
      "execution_count": 18,
      "metadata": {
        "colab": {
          "base_uri": "https://localhost:8080/"
        },
        "id": "SQGXtJlgpra6",
        "outputId": "f1b9de5b-9200-4ba6-af77-aee34638853d"
      },
      "outputs": [
        {
          "output_type": "stream",
          "name": "stdout",
          "text": [
            "\n",
            "\n",
            "\u001b[1m> Entering new AgentExecutor chain...\u001b[0m\n",
            "\u001b[32;1m\u001b[1;3m I need to find out who the Wimbledon 2023 champion is first.\n",
            "Action: search\n",
            "Action Input: Wimbledon 2023 champion\u001b[0m\n",
            "Observation: \u001b[36;1m\u001b[1;3m[{'title': 'Carlos Alcaraz overcomes Novak Djokovic in five-set thriller to win ...', 'description': 'Updated 3:31 PM EDT, Sun July 16, 2023 Link Copied! Ad Feedback The final lasted nearly five hours. Clive Brunskill/Getty Images CNN — World No. 1 Carlos Alcaraz beat reigning champion Novak...', 'url': 'https://www.cnn.com/2023/07/15/sport/wimbledon-mens-final-novak-djokovic-carlos-alcaraz-spt-intl/index.html'}, {'title': 'Wimbledon 2023: Scores, results, how to watch, notable matches ...', 'description': 'The 2023 Wimbledon Championships have come to an end with Carlos Alcaraz and Markéta Vondroušová becoming the latest winners of the iconic grass tournament singles events in England. Alcaraz,...', 'url': 'https://www.cbssports.com/tennis/news/wimbledon-2023-scores-results-how-to-watch-notable-matches-schedule-from-the-all-england-club-in-london/'}, {'title': '2023 Wimbledon Championships - How to watch - ESPN', 'description': 'Grass court season is officially back with the 2023 Wimbledon Championships. The 136th edition takes place July 3-16 at the All England Club in London. Defending champion Novak Djokovic is seeking ...', 'url': 'https://www.espn.com/tennis/story/_/id/37906741/how-watch-2023-wimbledon-championships'}, {'title': \"Wimbledon men's singles final 2023: Carlos Alcaraz beats Novak Djokovic ...\", 'description': \"Wimbledon men's singles final 2023: Carlos Alcaraz beats Novak Djokovic - as it happened Carlos Alcaraz recovered from a set down to topple Djokovic 1-6, 7-6 (6), 6-1, 3-6, 6-4 and win his...\", 'url': 'https://www.theguardian.com/sport/live/2023/jul/16/wimbledon-mens-singles-final-2023-carlos-alcaraz-v-novak-djokovic-live'}, {'title': \"Who won Wimbledon 2023? Full list of winners from this year's ... - Metro\", 'description': 'Carlos Alcaraz beat Novak Djokovic in an epic five set duel to clinch his second Grand Slam title following on from his US Open triumph last year. Alcaraz stunned Djokovic on Centre Court (Picture:...', 'url': 'https://metro.co.uk/2023/07/17/who-won-wimbledon-2023-full-list-of-winners-from-this-years-championships-19139566/'}]\u001b[0m\n",
            "Thought:\u001b[32;1m\u001b[1;3m I need to find out more information about Carlos Alcaraz.\n",
            "Action: search\n",
            "Action Input: Carlos Alcaraz hometown\u001b[0m\n",
            "Observation: \u001b[36;1m\u001b[1;3m[{'title': \"'This boy was born to be No 1': the making of Carlos Alcaraz\", 'description': \"The mural of Carlos Alcaraz in his hometown of El Palmar, and and him with his former coach Kiko Navarro. Composite: Getty Images Carlos Alcaraz 'This boy was born to be No 1': the making...\", 'url': 'https://www.theguardian.com/sport/2023/may/26/born-to-be-no-1-tennis-the-making-of-carlos-alcaraz'}, {'title': \"Carlos Alcaraz's hometown: Everything you need to know about ... - MSN\", 'description': \"Carlos Alcaraz's hometown: Everything you need to know about where the Wimbledon Champion lives Story by Ayush Vashistha • 52m ago C arlos Alcaraz, the 2023 Wimbledon champion, has taken...\", 'url': 'https://www.msn.com/en-us/sports/tennis/carlos-alcarazs-hometown-everything-you-need-to-know-about-where-the-wimbledon-champion-lives/ar-AA1e0bnp'}, {'title': \"Carlos Alcaraz's hometown: Everything you need to know ... - Sportskeeda\", 'description': \"The 20-year-old was born in El Palmar, a small village in Spain's Murcia region. It was the Real Sociedad Club de Campo Murcia where he started playing the sport. His father worked at the club as a...\", 'url': 'https://www.sportskeeda.com/tennis/carlos-alcaraz-s-hometown-everything-need-know-wimbledon-champion-lives'}, {'title': 'Carlos Alcaraz - Wikipedia', 'description': 'Early life Carlos Alcaraz Garfia was born on 5 May 2003, in El Palmar, Murcia, Spain to parents Carlos Alcaraz González and Virginia Garfia Escandón. He has three siblings. He started playing tennis at the Real Sociedad Club de Campo de Murcia ( Royal Society Murciashire Club) where his father was the tennis academy director.', 'url': 'https://en.wikipedia.org/wiki/Carlos_Alcaraz'}, {'title': 'Carlos Alcaraz Stats, News, Pictures, Bio, Videos - ESPN', 'description': 'ATP Rank #1 Birth Date May 5, 2003 (Age: 20) Hometown El Palmar, Murcia, Spain Height 6-0 Weight 163 lbs. 2023 Stats Go to Carlos Alcaraz Player Profile Results Videos Photos STATS CARLOS...', 'url': 'https://www.espn.com/tennis/player/_/id/3782/carlos-alcaraz'}]\u001b[0m\n",
            "Thought:\u001b[32;1m\u001b[1;3m Carlos Alcaraz is from El Palmar, Murcia, Spain.\n",
            "Final Answer: The hometown of the Wimbledon 2023 champion is El Palmar, Murcia, Spain.\u001b[0m\n",
            "\n",
            "\u001b[1m> Finished chain.\u001b[0m\n"
          ]
        },
        {
          "output_type": "execute_result",
          "data": {
            "text/plain": [
              "{'input': 'What is the hometown of the Wimbledon 2023 champion?',\n",
              " 'output': 'The hometown of the Wimbledon 2023 champion is El Palmar, Murcia, Spain.'}"
            ]
          },
          "metadata": {},
          "execution_count": 18
        }
      ],
      "source": [
        "from langchain.utilities import GoogleSerperAPIWrapper\n",
        "from langchain.llms.openai import OpenAI\n",
        "from langchain.agents import initialize_agent, Tool\n",
        "from langchain.agents import AgentType\n",
        "import os\n",
        "\n",
        "os.environ[\"OPENAI_API_KEY\"] = \"openai-key\"\n",
        "from duckpy import Client\n",
        "duckduckgo_client = Client()\n",
        "\n",
        "from langchain.tools import tool\n",
        "\n",
        "@tool(\"search\")\n",
        "def search_api(query: str) -> str:\n",
        "    \"\"\"Useful for when you need to answer questions about current events. You should ask targeted questions.\"\"\"\n",
        "    output = duckduckgo_client.search(query)\n",
        "    output = output[:5]\n",
        "    return str(output)\n",
        "\n",
        "\n",
        "llm = OpenAI(temperature=0)\n",
        "\n",
        "tools = []\n",
        "tools.append(search_api)\n",
        "agent = initialize_agent(tools, llm, agent=\"zero-shot-react-description\", verbose=True)\n",
        "\n",
        "agent(\n",
        "    \"What is the hometown of the Wimbledon 2023 champion?\"\n",
        ")"
      ]
    },
    {
      "cell_type": "code",
      "source": [],
      "metadata": {
        "id": "zuCTs2jwtJ52"
      },
      "execution_count": null,
      "outputs": []
    }
  ]
}