{
  "nbformat": 4,
  "nbformat_minor": 0,
  "metadata": {
    "colab": {
      "provenance": [],
      "authorship_tag": "ABX9TyOVvn6lfex8xyevRbi5evCu",
      "include_colab_link": true
    },
    "kernelspec": {
      "name": "python3",
      "display_name": "Python 3"
    },
    "language_info": {
      "name": "python"
    }
  },
  "cells": [
    {
      "cell_type": "markdown",
      "metadata": {
        "id": "view-in-github",
        "colab_type": "text"
      },
      "source": [
        "<a href=\"https://colab.research.google.com/github/Anil-matcha/langchain-tutorials/blob/main/Blog_to_chatbot.ipynb\" target=\"_parent\"><img src=\"https://colab.research.google.com/assets/colab-badge.svg\" alt=\"Open In Colab\"/></a>"
      ]
    },
    {
      "cell_type": "code",
      "source": [
        "!pip install requests langchain trafilatura openai BeautifulSoup"
      ],
      "metadata": {
        "id": "ygUPNWVWMMO1"
      },
      "execution_count": null,
      "outputs": []
    },
    {
      "cell_type": "code",
      "source": [
        "import requests\n",
        "from bs4 import BeautifulSoup\n",
        "wunder = requests.get(\"https://uuki.live/sitemap.xml\")\n",
        "parcala = BeautifulSoup(wunder.content, \"xml\")\n",
        "\n",
        "urls = []\n",
        "\n",
        "loc_tags = parcala.find_all('loc')\n",
        "\n",
        "for loc in loc_tags:\n",
        "    if 'learn/' in loc.get_text():\n",
        "        urls.append(loc.get_text().strip())\n",
        "\n",
        "print(urls)\n"
      ],
      "metadata": {
        "colab": {
          "base_uri": "https://localhost:8080/"
        },
        "id": "Y6sO5E9sMKk1",
        "outputId": "07e689bc-cb48-4c8f-d337-360fa3d78d15"
      },
      "execution_count": 12,
      "outputs": [
        {
          "output_type": "stream",
          "name": "stdout",
          "text": [
            "['https://uuki.live/learn/10-best-ai-image-generators-in-2023', 'https://uuki.live/learn/10-best-discord-alternatives-for-better-experience', 'https://uuki.live/learn/5-best-online-community-platforms-for-2023', 'https://uuki.live/learn/5-tips-for-building-a-stronger-brand-community', 'https://uuki.live/learn/6-steps-to-hack-your-way-to-a-great-producthunt-launch', 'https://uuki.live/learn/7-best-solana-nft-marketplaces', 'https://uuki.live/learn/7-examples-of-captivating-community-welcome-emails', 'https://uuki.live/learn/7-tips-for-online-community-moderators', 'https://uuki.live/learn/8-tips-for-the-perfect-community-newsletter', 'https://uuki.live/learn/autogpt-vs-babyagi', 'https://uuki.live/learn/best-discord-servers-for-web3-developers', 'https://uuki.live/learn/community-app-the-text-messaging-app-for-creators-and-influencers', 'https://uuki.live/learn/create-your-own-social-network-like-facebook', 'https://uuki.live/learn/creative-membership-level-names-how-to-name-your-memberships-with-examples', 'https://uuki.live/learn/differences-between-social-media-manager-and-community-manager', 'https://uuki.live/learn/everything-you-need-to-know-about-ko-fi', 'https://uuki.live/learn/facebook-group-and-page-badges-explained', 'https://uuki.live/learn/how-can-moderators-make-your-community-a-better-place', 'https://uuki.live/learn/how-to-add-binance-smart-chain-to-metamask', 'https://uuki.live/learn/how-to-add-cronos-to-metamask', 'https://uuki.live/learn/how-to-add-polygon-matic-network-to-metamask', 'https://uuki.live/learn/how-to-add-slp-to-metamask', 'https://uuki.live/learn/how-to-build-a-community-of-practice', 'https://uuki.live/learn/how-to-build-an-online-community', 'https://uuki.live/learn/how-to-connect-uniswap-to-metamask', 'https://uuki.live/learn/how-to-create-a-ronin-wallet-to-play-axie-infinity', 'https://uuki.live/learn/how-to-get-your-community-indexed-on-google-faster', 'https://uuki.live/learn/how-to-grow-a-discord-community', 'https://uuki.live/learn/how-to-start-an-online-school', 'https://uuki.live/learn/how-to-transfer-bnb-from-trust-wallet-to-binance', 'https://uuki.live/learn/how-to-transfer-crypto-from-trust-wallet-to-coinbase', 'https://uuki.live/learn/how-to-transfer-ethereum-from-coinbase-to-metamask', 'https://uuki.live/learn/how-to-transfer-ethereum-from-metamask-to-coinbase', 'https://uuki.live/learn/how-to-write-guidelines-for-your-online-community-platform-forum', 'https://uuki.live/learn/kajabi-vs-thinkific', 'https://uuki.live/learn/messaging-app-vs-community-platform', 'https://uuki.live/learn/minigpt-4-open-source-model-for-complex-vision-language-tasks-like-gpt-4', 'https://uuki.live/learn/seo-tips-to-increase-traffic-to-your-community-and-forum', 'https://uuki.live/learn/should-you-use-slack-for-your-community', 'https://uuki.live/learn/the-5-best-online-community-management-courses', 'https://uuki.live/learn/the-best-guide-to-circle-so-and-the-5-best-alternatives-for-your-community', 'https://uuki.live/learn/the-best-gumroad-alternatives-for-2023', 'https://uuki.live/learn/the-best-tribe-alternatives-for-2023', 'https://uuki.live/learn/the-essential-seo-guide-for-online-community-and-forums', 'https://uuki.live/learn/the-top-20-side-hustles-to-make-extra-money-in-2022', 'https://uuki.live/learn/the-ultimate-guide-to-building-a-customer-community', 'https://uuki.live/learn/the-ultimate-guide-to-community-management', 'https://uuki.live/learn/twitter-vs-mastodon', 'https://uuki.live/learn/username-with-only-letters-numbers-and-underscore', 'https://uuki.live/learn/what-are-poap-nfts-and-why-are-they-important', 'https://uuki.live/learn/what-is-an-online-course-in-2022', 'https://uuki.live/learn/what-is-auto-gpt-and-what-can-it-do', 'https://uuki.live/learn/what-is-huggingchat-everything-you-need-to-know-about-this-open-source-ai-chatbot', 'https://uuki.live/learn/what-is-prompt-engineering-how-to-write-an-effective-gpt-3-5-or-gpt-4-prompt', 'https://uuki.live/learn/white-label-online-courses']\n"
          ]
        }
      ]
    },
    {
      "cell_type": "code",
      "execution_count": 19,
      "metadata": {
        "colab": {
          "base_uri": "https://localhost:8080/"
        },
        "id": "ZQ6gKwYlIhjm",
        "outputId": "e3d716e2-21b5-4e48-dd03-3bdbd9616354"
      },
      "outputs": [
        {
          "output_type": "stream",
          "name": "stdout",
          "text": [
            "{'output_text': 'According to a list compiled by Uuki.live, the best AI image generators include DALL-E 2, MidJourney, and WOMBO Dream.\\nSOURCES: https://uuki.live/learn/10-best-ai-image-generators-in-2023'}\n"
          ]
        }
      ],
      "source": [
        "from langchain.tools import BaseTool\n",
        "from langchain.text_splitter import RecursiveCharacterTextSplitter\n",
        "from pydantic import Field\n",
        "from langchain.chains.qa_with_sources.loading import load_qa_with_sources_chain, BaseCombineDocumentsChain\n",
        "from langchain.chat_models import ChatOpenAI\n",
        "import os, asyncio, trafilatura\n",
        "from langchain.docstore.document import Document\n",
        "\n",
        "def _get_text_splitter():\n",
        "    return RecursiveCharacterTextSplitter(\n",
        "        # Set a really small chunk size, just to show.\n",
        "        chunk_size = 500,\n",
        "        chunk_overlap  = 20,\n",
        "        length_function = len,\n",
        "    )\n",
        "\n",
        "class WebpageQATool(BaseTool):\n",
        "    name = \"query_webpage\"\n",
        "    description = \"Browse a webpage and retrieve the information relevant to the question.\"\n",
        "    text_splitter: RecursiveCharacterTextSplitter = Field(default_factory=_get_text_splitter)\n",
        "    qa_chain: BaseCombineDocumentsChain\n",
        "\n",
        "    def _run(self, question: str) -> str:\n",
        "        docs = []\n",
        "        for url in urls[:2]:\n",
        "            result = trafilatura.extract(trafilatura.fetch_url(url))\n",
        "            docs.append(Document(page_content=result, metadata={\"source\": url}))\n",
        "        #docs = [Document(page_content=result, metadata={\"source\": url})]\n",
        "        web_docs = self.text_splitter.split_documents(docs)\n",
        "        results = []\n",
        "        for i in range(0, len(web_docs), 4):\n",
        "            input_docs = web_docs[i:i+4]\n",
        "            window_result = self.qa_chain({\"input_documents\": input_docs, \"question\": question}, return_only_outputs=True)\n",
        "            results.append(f\"Response from window {i} - {window_result}\")\n",
        "        results_docs = [Document(page_content=\"\\n\".join(results), metadata={\"source\": url})]\n",
        "        return self.qa_chain({\"input_documents\": results_docs, \"question\": question}, return_only_outputs=True)\n",
        "\n",
        "    async def _arun(self, url: str, question: str) -> str:\n",
        "        raise NotImplementedError\n",
        "\n",
        "llm = ChatOpenAI(temperature=1.0, openai_api_key=\"your-openai-key\")\n",
        "query_website_tool = WebpageQATool(qa_chain=load_qa_with_sources_chain(llm))\n",
        "print(query_website_tool.run(\"What are the best AI image generators ?\"))"
      ]
    },
    {
      "cell_type": "code",
      "source": [],
      "metadata": {
        "id": "IBCjAOk1NJuN"
      },
      "execution_count": null,
      "outputs": []
    }
  ]
}